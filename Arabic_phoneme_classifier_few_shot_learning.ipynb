{
 "cells": [
  {
   "cell_type": "code",
   "execution_count": 3,
   "metadata": {},
   "outputs": [],
   "source": [
    "%%capture\n",
    "pip install tensorflow_io tensorflow_hub pydot tensorflow==2.7.0"
   ]
  },
  {
   "cell_type": "code",
   "execution_count": 4,
   "metadata": {},
   "outputs": [],
   "source": [
    "import tensorflow as tf"
   ]
  },
  {
   "cell_type": "code",
   "execution_count": 5,
   "metadata": {},
   "outputs": [
    {
     "name": "stdout",
     "output_type": "stream",
     "text": [
      "2.7.0\n"
     ]
    }
   ],
   "source": [
    "print(tf.__version__) #make sure version 2.7.0 (2.4.0 didn't work with tensorflow_io)"
   ]
  },
  {
   "cell_type": "code",
   "execution_count": 6,
   "metadata": {},
   "outputs": [],
   "source": [
    "import os\n",
    "\n",
    "from IPython import display\n",
    "import matplotlib.pyplot as plt\n",
    "import numpy as np\n",
    "import pandas as pd\n",
    "\n",
    "import tensorflow as tf\n",
    "import tensorflow_hub as hub\n",
    "import tensorflow_io as tfio\n",
    "\n",
    "from keras.models import Model\n",
    "from keras.layers import Input\n",
    "from keras.layers import Dense\n",
    "from keras.layers import Dropout"
   ]
  },
  {
   "cell_type": "markdown",
   "metadata": {},
   "source": [
    "# Generate listings of the files and make pairs (for training & test sets)"
   ]
  },
  {
   "cell_type": "code",
   "execution_count": 8,
   "metadata": {},
   "outputs": [],
   "source": [
    "file_list1 = [] #Will hold the full filename\n",
    "label_list1 = [] #Will hold the name without the .wav and version suffix\n",
    "\n",
    "for filename in os.listdir(\"./test_data/\"):\n",
    "    if filename.endswith(\"wav\"):\n",
    "        file_list1.append(filename)\n",
    "        label_list1.append(filename[:len(filename)-6]) # We take the file name and remove the last 6 characters to get the label \n",
    "                                                      # (ex: 3_ta_fatha_1.wav --> 3_ta_fatha)\n",
    "    else:\n",
    "        continue\n",
    "\n",
    "file_list2 = [] #Will hold the full filename\n",
    "label_list2 = [] #Will hold the name without the .wav and version suffix\n",
    "\n",
    "for filename in os.listdir(\"./test_data/\"):\n",
    "    if filename.endswith(\"2.wav\"):\n",
    "        file_list2.append(filename)\n",
    "        label_list2.append(filename[:len(filename)-6]) # We take the file name and remove the last 6 characters to get the label \n",
    "                                                      # (ex: 3_ta_fatha_1.wav --> 3_ta_fatha)\n",
    "    else:\n",
    "        continue"
   ]
  },
  {
   "cell_type": "code",
   "execution_count": 10,
   "metadata": {},
   "outputs": [],
   "source": [
    "### This function makes pairs between wav files and labels them as the same or different\n",
    "\n",
    "def make_pairs_full(sounds):\n",
    "    # initialize two empty lists to hold the (sound, sound) pairs and\n",
    "    # labels to indicate if a pair is positive or negative\n",
    "    pairSounds = []\n",
    "    pairLabels = []\n",
    "    \n",
    "    for currentSound in sounds:\n",
    "        for otherSound in sounds:\n",
    "            current_sound_class = currentSound[:len(currentSound)-6] #Remove the number and '.wav' part of each currentSound file name\n",
    "            other_sound_class = otherSound[:len(otherSound)-6] #Remove the number and '.wav' part of each otherSound file name\n",
    "                  \n",
    "            if(([currentSound, otherSound] in pairSounds) or ([otherSound, currentSound] in pairSounds)):\n",
    "                # If the combo is in the list, ignore (don't want duplicates)\n",
    "                continue\n",
    "            else:\n",
    "                pairSounds.append([currentSound, otherSound]) #Append each pair to the list\n",
    "                if(current_sound_class == other_sound_class): #If the pair is of the same class (letter), append 1.0, else append 0.0\n",
    "                    pairLabels.append([1.0])\n",
    "                else:\n",
    "                    pairLabels.append([0.0])\n",
    "                \n",
    "    # return a 2-tuple of our sound pairs and labels\n",
    "    # MUST SET LABELS AS TYPE 'np.float32' TO GET THIS TO WORK IN TRAINING!!!\n",
    "    return (np.array(pairSounds).astype(object), np.array(pairLabels).astype(np.float32))"
   ]
  },
  {
   "cell_type": "code",
   "execution_count": 24,
   "metadata": {},
   "outputs": [],
   "source": [
    "from sklearn.model_selection import train_test_split\n",
    "\n",
    "#Get all unique pairs and corresponding same-class labels\n",
    "(pairTrain_full_temp, labelTrain_full_temp) = make_pairs_full(file_list1) \n",
    "\n",
    "#Do train test split\n",
    "pairTrain_full, pairTest_full, labelTrain_full, labelTest_full = train_test_split(pairTrain_full_temp, \n",
    "                                                                                  labelTrain_full_temp, \n",
    "                                                                                  test_size=0.20, \n",
    "                                                                                  random_state=42)"
   ]
  },
  {
   "cell_type": "code",
   "execution_count": 34,
   "metadata": {},
   "outputs": [
    {
     "name": "stdout",
     "output_type": "stream",
     "text": [
      "1188\n",
      "297\n",
      "1485\n",
      "1485\n"
     ]
    }
   ],
   "source": [
    "#Verify that split worked (I'm paranoid)\n",
    "print( len(pairTrain_full) )\n",
    "print( len(pairTest_full) )\n",
    "print( len(pairTrain_full) + len(pairTest_full) ) # ( (n*(n+1))/2 unique combos --> ((54*55)/2) )\n",
    "print( len(pairTrain_full_temp) )"
   ]
  },
  {
   "cell_type": "code",
   "execution_count": 26,
   "metadata": {},
   "outputs": [],
   "source": [
    "### RUN THIS CODE ONCE PER DATAFRAME!!! ###\n",
    "### Otherwise, full file paths will be incorrect ###\n",
    "\n",
    "path = './test_data/'\n",
    "\n",
    "#Enumerate over train and test set pairs and modify names to include full path to files\n",
    "for i, file in enumerate(pairTrain_full):\n",
    "    pairTrain_full[i] = [path+file[0], path+file[1]]\n",
    "    \n",
    "for i, file in enumerate(pairTest_full):\n",
    "    pairTest_full[i] = [path+file[0], path+file[1]]"
   ]
  },
  {
   "cell_type": "markdown",
   "metadata": {},
   "source": [
    "# Load and pre-process wav files for file name listings"
   ]
  },
  {
   "cell_type": "code",
   "execution_count": 30,
   "metadata": {},
   "outputs": [],
   "source": [
    "# Utility functions for loading audio files and making sure the sample rate is correct.\n",
    "\n",
    "@tf.function\n",
    "def load_wav_16k_mono(filename):\n",
    "    \"\"\" Load a WAV file, convert it to a float tensor, resample to 16 kHz single-channel audio. \"\"\"\n",
    "    file_contents = tf.io.read_file(filename)\n",
    "    wav, sample_rate = tf.audio.decode_wav(\n",
    "          file_contents,\n",
    "          desired_channels=1)\n",
    "    wav = tf.squeeze(wav, axis=-1)\n",
    "    sample_rate = tf.cast(sample_rate, dtype=tf.int64)\n",
    "    wav = tfio.audio.resample(wav, rate_in=sample_rate, rate_out=16000)\n",
    "    return wav"
   ]
  },
  {
   "cell_type": "code",
   "execution_count": 31,
   "metadata": {},
   "outputs": [],
   "source": [
    "# Returns a shortened version of the waveform vector passed in\n",
    "# Looks for the index of the point with the greatest amplitude (midpoint), \n",
    "# then takes the first half and a few indices after the midpoint\n",
    "\n",
    "def wav_file_shortener(waveform_vec, length_post_max_index):\n",
    "    max_amplitude = np.argmax(waveform_vec) #Find the index with the highest amplitude\n",
    "    \n",
    "    starting_index = max(max_amplitude-4000, 0) #starting index is 0 if index of max amp - 4000 is negative\n",
    "    middle_index = max_amplitude\n",
    "    ending_index = min(max_amplitude+4000, len(waveform_vec)-1) #ending index is length if index of max amp + 4000 exceeds it\n",
    "\n",
    "    # Shortened waveform is from starting index up to midpoint + however many additional \n",
    "    # indices the user wants to add/experiment with\n",
    "    shortened_waveform = waveform_vec[starting_index:middle_index+length_post_max_index]\n",
    "    \n",
    "    return shortened_waveform"
   ]
  },
  {
   "cell_type": "code",
   "execution_count": 32,
   "metadata": {
    "scrolled": true
   },
   "outputs": [
    {
     "name": "stdout",
     "output_type": "stream",
     "text": [
      "WARNING:tensorflow:Using a while_loop for converting IO>AudioResample\n",
      "WARNING:tensorflow:Using a while_loop for converting IO>AudioResample\n",
      "WARNING:tensorflow:Using a while_loop for converting IO>AudioResample\n",
      "WARNING:tensorflow:Using a while_loop for converting IO>AudioResample\n",
      "WARNING:tensorflow:Using a while_loop for converting IO>AudioResample\n",
      "WARNING:tensorflow:5 out of the last 5 calls to <function load_wav_16k_mono at 0x7fd660ae70d0> triggered tf.function retracing. Tracing is expensive and the excessive number of tracings could be due to (1) creating @tf.function repeatedly in a loop, (2) passing tensors with different shapes, (3) passing Python objects instead of tensors. For (1), please define your @tf.function outside of the loop. For (2), @tf.function has experimental_relax_shapes=True option that relaxes argument shapes that can avoid unnecessary retracing. For (3), please refer to https://www.tensorflow.org/guide/function#controlling_retracing and https://www.tensorflow.org/api_docs/python/tf/function for  more details.\n",
      "WARNING:tensorflow:Using a while_loop for converting IO>AudioResample\n",
      "WARNING:tensorflow:6 out of the last 6 calls to <function load_wav_16k_mono at 0x7fd660ae70d0> triggered tf.function retracing. Tracing is expensive and the excessive number of tracings could be due to (1) creating @tf.function repeatedly in a loop, (2) passing tensors with different shapes, (3) passing Python objects instead of tensors. For (1), please define your @tf.function outside of the loop. For (2), @tf.function has experimental_relax_shapes=True option that relaxes argument shapes that can avoid unnecessary retracing. For (3), please refer to https://www.tensorflow.org/guide/function#controlling_retracing and https://www.tensorflow.org/api_docs/python/tf/function for  more details.\n",
      "WARNING:tensorflow:Using a while_loop for converting IO>AudioResample\n",
      "WARNING:tensorflow:Using a while_loop for converting IO>AudioResample\n",
      "WARNING:tensorflow:Using a while_loop for converting IO>AudioResample\n",
      "WARNING:tensorflow:Using a while_loop for converting IO>AudioResample\n",
      "WARNING:tensorflow:Using a while_loop for converting IO>AudioResample\n",
      "WARNING:tensorflow:Using a while_loop for converting IO>AudioResample\n",
      "WARNING:tensorflow:Using a while_loop for converting IO>AudioResample\n",
      "WARNING:tensorflow:Using a while_loop for converting IO>AudioResample\n",
      "WARNING:tensorflow:Using a while_loop for converting IO>AudioResample\n",
      "WARNING:tensorflow:Using a while_loop for converting IO>AudioResample\n",
      "WARNING:tensorflow:Using a while_loop for converting IO>AudioResample\n",
      "WARNING:tensorflow:Using a while_loop for converting IO>AudioResample\n",
      "WARNING:tensorflow:Using a while_loop for converting IO>AudioResample\n",
      "WARNING:tensorflow:Using a while_loop for converting IO>AudioResample\n",
      "WARNING:tensorflow:Using a while_loop for converting IO>AudioResample\n",
      "WARNING:tensorflow:Using a while_loop for converting IO>AudioResample\n",
      "WARNING:tensorflow:Using a while_loop for converting IO>AudioResample\n",
      "WARNING:tensorflow:Using a while_loop for converting IO>AudioResample\n",
      "WARNING:tensorflow:Using a while_loop for converting IO>AudioResample\n",
      "WARNING:tensorflow:Using a while_loop for converting IO>AudioResample\n",
      "WARNING:tensorflow:Using a while_loop for converting IO>AudioResample\n",
      "WARNING:tensorflow:Using a while_loop for converting IO>AudioResample\n",
      "WARNING:tensorflow:Using a while_loop for converting IO>AudioResample\n",
      "WARNING:tensorflow:Using a while_loop for converting IO>AudioResample\n",
      "WARNING:tensorflow:Using a while_loop for converting IO>AudioResample\n",
      "WARNING:tensorflow:Using a while_loop for converting IO>AudioResample\n",
      "WARNING:tensorflow:Using a while_loop for converting IO>AudioResample\n",
      "WARNING:tensorflow:Using a while_loop for converting IO>AudioResample\n",
      "WARNING:tensorflow:Using a while_loop for converting IO>AudioResample\n",
      "WARNING:tensorflow:Using a while_loop for converting IO>AudioResample\n",
      "WARNING:tensorflow:Using a while_loop for converting IO>AudioResample\n",
      "WARNING:tensorflow:Using a while_loop for converting IO>AudioResample\n",
      "WARNING:tensorflow:Using a while_loop for converting IO>AudioResample\n",
      "WARNING:tensorflow:Using a while_loop for converting IO>AudioResample\n",
      "WARNING:tensorflow:Using a while_loop for converting IO>AudioResample\n",
      "WARNING:tensorflow:Using a while_loop for converting IO>AudioResample\n",
      "WARNING:tensorflow:Using a while_loop for converting IO>AudioResample\n",
      "WARNING:tensorflow:Using a while_loop for converting IO>AudioResample\n",
      "WARNING:tensorflow:Using a while_loop for converting IO>AudioResample\n",
      "WARNING:tensorflow:Using a while_loop for converting IO>AudioResample\n",
      "WARNING:tensorflow:Using a while_loop for converting IO>AudioResample\n",
      "WARNING:tensorflow:Using a while_loop for converting IO>AudioResample\n",
      "WARNING:tensorflow:Using a while_loop for converting IO>AudioResample\n",
      "WARNING:tensorflow:Using a while_loop for converting IO>AudioResample\n",
      "WARNING:tensorflow:Using a while_loop for converting IO>AudioResample\n",
      "WARNING:tensorflow:Using a while_loop for converting IO>AudioResample\n",
      "WARNING:tensorflow:Using a while_loop for converting IO>AudioResample\n",
      "WARNING:tensorflow:Using a while_loop for converting IO>AudioResample\n",
      "1188\n",
      "297\n"
     ]
    }
   ],
   "source": [
    "### This block takes the training and testing lists of\n",
    "### wav files and converts them to vectors\n",
    "\n",
    "pairTrain_wav_16k_vec = []\n",
    "\n",
    "for i, file in enumerate(pairTrain_full):\n",
    "    file_1_vec = load_wav_16k_mono(file[0])\n",
    "    file_1_vec = wav_file_shortener(file_1_vec, 0) #Shorten waveform to get most important parts\n",
    "    file_2_vec = load_wav_16k_mono(file[1])\n",
    "    file_2_vec = wav_file_shortener(file_2_vec, 0) #Shorten waveform to get most important parts\n",
    "    pairTrain_wav_16k_vec.append([file_1_vec, file_2_vec])\n",
    "\n",
    "print(len(pairTrain_wav_16k_vec))\n",
    "pairTrain_wav_16k_vec_np = np.array(pairTrain_wav_16k_vec, dtype=object) #Convert list of vectors to numpy array\n",
    "\n",
    "\n",
    "pairTest_wav_16k_vec = []\n",
    "\n",
    "for i, file in enumerate(pairTest_full):\n",
    "    file_1_vec = load_wav_16k_mono(file[0])\n",
    "    file_1_vec = wav_file_shortener(file_1_vec, 0) #Shorten waveform to get most important parts\n",
    "    file_2_vec = load_wav_16k_mono(file[1])\n",
    "    file_2_vec = wav_file_shortener(file_2_vec, 0) #Shorten waveform to get most important parts\n",
    "    pairTest_wav_16k_vec.append([file_1_vec, file_2_vec])\n",
    "\n",
    "print(len(pairTest_wav_16k_vec))\n",
    "pairTest_wav_16k_vec_np = np.array(pairTest_wav_16k_vec, dtype=object) #Convert list of vectors to numpy array"
   ]
  },
  {
   "cell_type": "markdown",
   "metadata": {},
   "source": [
    "# Load pre-trained model (for embeddings) and begin extracting embeddings for wav files"
   ]
  },
  {
   "cell_type": "code",
   "execution_count": 36,
   "metadata": {},
   "outputs": [],
   "source": [
    "# This loads a pre-trained model from TF-hub to extract embeddings\n",
    "model_handle = 'https://tfhub.dev/google/nonsemantic-speech-benchmark/trill/3'\n",
    "embedding_extraction = hub.load(model_handle)\n",
    "\n",
    "# If you get the error 'OSError: SavedModel file does not exist at:', follow instructions at:\n",
    "# https://stackoverflow.com/questions/63078695/savedmodel-file-does-not-exist-when-using-tensorflow-hub"
   ]
  },
  {
   "cell_type": "code",
   "execution_count": 37,
   "metadata": {},
   "outputs": [
    {
     "name": "stdout",
     "output_type": "stream",
     "text": [
      "1188\n",
      "297\n"
     ]
    }
   ],
   "source": [
    "# This block enumerates through each vector, extracts the \n",
    "# embeddings using the TRILL pre-trained model, & appends to list\n",
    "# (Can take a few minutes to run)\n",
    "\n",
    "pairTrain_embeddings = []\n",
    "\n",
    "for i, vec in enumerate(pairTrain_wav_16k_vec_np):\n",
    "    vec_1_embedding = embedding_extraction(samples=vec[0], sample_rate=16000)['embedding']\n",
    "    vec_2_embedding = embedding_extraction(samples=vec[1], sample_rate=16000)['embedding']\n",
    "    pairTrain_embeddings.append([vec_1_embedding, vec_2_embedding])\n",
    "\n",
    "print(len(pairTrain_embeddings))\n",
    "\n",
    "pairTest_embeddings = []\n",
    "\n",
    "for i, vec in enumerate(pairTest_wav_16k_vec_np):\n",
    "    vec_1_embedding = embedding_extraction(samples=vec[0], sample_rate=16000)['embedding']\n",
    "    vec_2_embedding = embedding_extraction(samples=vec[1], sample_rate=16000)['embedding']\n",
    "    pairTest_embeddings.append([vec_1_embedding, vec_2_embedding])\n",
    "\n",
    "print(len(pairTest_embeddings))"
   ]
  },
  {
   "cell_type": "code",
   "execution_count": 38,
   "metadata": {},
   "outputs": [],
   "source": [
    "# Take the embedding pairs and put in separate lists (for training stage further below)\n",
    "\n",
    "# Training data\n",
    "first_embedding_list_train = [i[0] for i in pairTrain_embeddings] #Embedding of the first wav vec in each pair\n",
    "second_embedding_list_train = [i[1] for i in pairTrain_embeddings] #Embedding of the second wav vec in each pair\n",
    "\n",
    "# Test/validation set\n",
    "first_embedding_list_test = [i[0] for i in pairTest_embeddings] #Embedding of the first wav vec in each pair\n",
    "second_embedding_list_test = [i[0] for i in pairTest_embeddings] #Embedding of the first wav vec in each pair"
   ]
  },
  {
   "cell_type": "markdown",
   "metadata": {},
   "source": [
    "# Model architecture code with helper functions"
   ]
  },
  {
   "cell_type": "code",
   "execution_count": 40,
   "metadata": {},
   "outputs": [],
   "source": [
    "import tensorflow.keras.backend as K\n",
    "\n",
    "# This function will be used in the Siamese network to measure distance between input embeddings\n",
    "\n",
    "def euclidean_distance(vectors):\n",
    "    # unpack the vectors into separate lists\n",
    "    (featsA, featsB) = vectors\n",
    "\n",
    "    # compute the sum of squared distances between the vectors\n",
    "    sumSquared = K.sum(K.square(featsA - featsB), axis=1, keepdims=True)\n",
    "\n",
    "    # return the euclidean distance between the vectors\n",
    "    return K.sqrt(K.maximum(sumSquared, K.epsilon()))"
   ]
  },
  {
   "cell_type": "code",
   "execution_count": 41,
   "metadata": {},
   "outputs": [],
   "source": [
    "# ### UNCOMMENT AS NEEDED (If you want to use this for loss) ###\n",
    "\n",
    "# import tensorflow.keras.backend as K\n",
    "# import tensorflow as tf\n",
    "\n",
    "# # This function calculates contrastive loss\n",
    "\n",
    "# def contrastive_loss(y, preds, margin=1):\n",
    "#     # explicitly cast the true class label data type to the predicted\n",
    "#     # class label data type (otherwise we run the risk of having two\n",
    "#     # separate data types, causing TensorFlow to error out)\n",
    "#     y = tf.cast(y, preds.dtype)\n",
    "#     # calculate the contrastive loss between the true labels and\n",
    "#     # the predicted labels\n",
    "#     squaredPreds = K.square(preds)\n",
    "#     squaredMargin = K.square(K.maximum(margin - preds, 0))\n",
    "#     loss = K.mean(y * squaredPreds + (1 - y) * squaredMargin)\n",
    "#     # return the computed contrastive loss to the calling function\n",
    "#     return loss"
   ]
  },
  {
   "cell_type": "code",
   "execution_count": 42,
   "metadata": {},
   "outputs": [],
   "source": [
    "# Will use these to take the TRILL embeddings directly as inputs rather than include TRILL directly in the architecture\n",
    "featsA = tf.keras.layers.Input(shape=(512), dtype=tf.float32, name='input_embeddingA')\n",
    "featsB = tf.keras.layers.Input(shape=(512), dtype=tf.float32, name='input_embeddingB')\n",
    "\n",
    "# Construct the siamese network\n",
    "distance = tf.keras.layers.Lambda(euclidean_distance, name='euclidean_distance')([featsA, featsB]) #Distance between input embeddings\n",
    "middle_layer1 = Dense(10, activation='relu', name='intermediary1')(distance) #Intermediary layer 1\n",
    "middle_layer2 = Dense(10, activation='relu', name='intermediary2')(middle_layer1) #Intermediary layer 2\n",
    "dropout = Dropout(0.25, seed=0, name='dropout')(middle_layer2) #Dropout layer (for regularization)\n",
    "outputs = Dense(1, activation=\"sigmoid\", name='distance')(dropout) #Output layer\n",
    "model = Model(inputs=[featsA, featsB], outputs=outputs) #Bring it all together"
   ]
  },
  {
   "cell_type": "code",
   "execution_count": 43,
   "metadata": {},
   "outputs": [
    {
     "name": "stdout",
     "output_type": "stream",
     "text": [
      "[INFO] compiling model...\n"
     ]
    }
   ],
   "source": [
    "# compile the model\n",
    "print(\"[INFO] compiling model...\")\n",
    "model.compile(loss=\"binary_crossentropy\", optimizer=\"adam\", metrics=[\"accuracy\"])\n",
    "# model.compile(loss=contrastive_loss, optimizer=\"adam\", metrics=[\"accuracy\"])"
   ]
  },
  {
   "cell_type": "code",
   "execution_count": 44,
   "metadata": {},
   "outputs": [
    {
     "name": "stdout",
     "output_type": "stream",
     "text": [
      "Model: \"model\"\n",
      "__________________________________________________________________________________________________\n",
      " Layer (type)                   Output Shape         Param #     Connected to                     \n",
      "==================================================================================================\n",
      " input_embeddingA (InputLayer)  [(None, 512)]        0           []                               \n",
      "                                                                                                  \n",
      " input_embeddingB (InputLayer)  [(None, 512)]        0           []                               \n",
      "                                                                                                  \n",
      " euclidean_distance (Lambda)    (None, 1)            0           ['input_embeddingA[0][0]',       \n",
      "                                                                  'input_embeddingB[0][0]']       \n",
      "                                                                                                  \n",
      " intermediary1 (Dense)          (None, 10)           20          ['euclidean_distance[0][0]']     \n",
      "                                                                                                  \n",
      " intermediary2 (Dense)          (None, 10)           110         ['intermediary1[0][0]']          \n",
      "                                                                                                  \n",
      " dropout (Dropout)              (None, 10)           0           ['intermediary2[0][0]']          \n",
      "                                                                                                  \n",
      " distance (Dense)               (None, 1)            11          ['dropout[0][0]']                \n",
      "                                                                                                  \n",
      "==================================================================================================\n",
      "Total params: 141\n",
      "Trainable params: 141\n",
      "Non-trainable params: 0\n",
      "__________________________________________________________________________________________________\n"
     ]
    }
   ],
   "source": [
    "#Display model structure\n",
    "model.summary()"
   ]
  },
  {
   "cell_type": "markdown",
   "metadata": {},
   "source": [
    "# Model Training"
   ]
  },
  {
   "cell_type": "code",
   "execution_count": 45,
   "metadata": {},
   "outputs": [],
   "source": [
    "# Must restack to transform to acceptable format for training\n",
    "first_dim_restack_train = len(tf.stack(first_embedding_list_train))\n",
    "first_dim_restack_test = len(tf.stack(first_embedding_list_test))"
   ]
  },
  {
   "cell_type": "code",
   "execution_count": 47,
   "metadata": {},
   "outputs": [],
   "source": [
    "from tensorflow.python.ops.numpy_ops import np_config\n",
    "np_config.enable_numpy_behavior() # Needed to get reshape to work below"
   ]
  },
  {
   "cell_type": "code",
   "execution_count": 48,
   "metadata": {},
   "outputs": [
    {
     "name": "stdout",
     "output_type": "stream",
     "text": [
      "[INFO] training model...\n",
      "Epoch 1/10\n",
      "38/38 [==============================] - 1s 5ms/step - loss: 0.6274 - accuracy: 0.8056 - val_loss: 0.6293 - val_accuracy: 0.9428\n",
      "Epoch 2/10\n",
      "38/38 [==============================] - 0s 2ms/step - loss: 0.5042 - accuracy: 0.9411 - val_loss: 0.5589 - val_accuracy: 0.9428\n",
      "Epoch 3/10\n",
      "38/38 [==============================] - 0s 2ms/step - loss: 0.3933 - accuracy: 0.9444 - val_loss: 0.4913 - val_accuracy: 0.9428\n",
      "Epoch 4/10\n",
      "38/38 [==============================] - 0s 2ms/step - loss: 0.3057 - accuracy: 0.9436 - val_loss: 0.4305 - val_accuracy: 0.9428\n",
      "Epoch 5/10\n",
      "38/38 [==============================] - 0s 2ms/step - loss: 0.2468 - accuracy: 0.9461 - val_loss: 0.3837 - val_accuracy: 0.9428\n",
      "Epoch 6/10\n",
      "38/38 [==============================] - 0s 2ms/step - loss: 0.2035 - accuracy: 0.9461 - val_loss: 0.3515 - val_accuracy: 0.9428\n",
      "Epoch 7/10\n",
      "38/38 [==============================] - 0s 2ms/step - loss: 0.1824 - accuracy: 0.9461 - val_loss: 0.3303 - val_accuracy: 0.9428\n",
      "Epoch 8/10\n",
      "38/38 [==============================] - 0s 2ms/step - loss: 0.1747 - accuracy: 0.9461 - val_loss: 0.3168 - val_accuracy: 0.9428\n",
      "Epoch 9/10\n",
      "38/38 [==============================] - 0s 2ms/step - loss: 0.1622 - accuracy: 0.9461 - val_loss: 0.3102 - val_accuracy: 0.9428\n",
      "Epoch 10/10\n",
      "38/38 [==============================] - 0s 2ms/step - loss: 0.1575 - accuracy: 0.9461 - val_loss: 0.3071 - val_accuracy: 0.9428\n"
     ]
    }
   ],
   "source": [
    "#### RUN THE 'model ='' and 'model.compile' CELLS FIRST TO AVOID INCREMENTAL FITTING (WHICH CAN LEAD TO OVERFITTING) ######\n",
    "\n",
    "# train the model\n",
    "print(\"[INFO] training model...\")\n",
    "history = model.fit(\n",
    "    {'input_embeddingA': tf.stack(first_embedding_list_train).reshape(first_dim_restack_train,512), #Need to reshape to go from 3d to 2d ((12,1,1024)-->(12,1024))\n",
    "     'input_embeddingB': tf.stack(second_embedding_list_train).reshape(first_dim_restack_train,512)}, \n",
    "    {'distance': labelTrain_full},\n",
    "    validation_data=([tf.stack(first_embedding_list_test).reshape(first_dim_restack_test,512), \n",
    "                      tf.stack(second_embedding_list_test).reshape(first_dim_restack_test,512)], labelTest_full),\n",
    "    batch_size = 32,\n",
    "    epochs=10)"
   ]
  },
  {
   "cell_type": "code",
   "execution_count": 49,
   "metadata": {},
   "outputs": [
    {
     "name": "stdout",
     "output_type": "stream",
     "text": [
      "dict_keys(['loss', 'accuracy', 'val_loss', 'val_accuracy'])\n"
     ]
    },
    {
     "data": {
      "image/png": "[encoded data removed]",
      "text/plain": [
       "<Figure size 432x288 with 1 Axes>"
      ]
     },
     "metadata": {
      "needs_background": "light"
     },
     "output_type": "display_data"
    },
    {
     "data": {
      "image/png": "[encoded data removed]",
      "text/plain": [
       "<Figure size 432x288 with 1 Axes>"
      ]
     },
     "metadata": {
      "needs_background": "light"
     },
     "output_type": "display_data"
    }
   ],
   "source": [
    "import matplotlib.pyplot as plt\n",
    "\n",
    "# list all data in history\n",
    "print(history.history.keys())\n",
    "# summarize history for accuracy\n",
    "plt.plot(history.history['accuracy'])\n",
    "plt.plot(history.history['val_accuracy'])\n",
    "plt.title('model accuracy')\n",
    "plt.ylabel('accuracy')\n",
    "plt.xlabel('epoch')\n",
    "plt.legend(['train', 'test'], loc='upper left')\n",
    "plt.show()\n",
    "# summarize history for loss\n",
    "plt.plot(history.history['loss'])\n",
    "plt.plot(history.history['val_loss'])\n",
    "plt.title('model loss')\n",
    "plt.ylabel('loss')\n",
    "plt.xlabel('epoch')\n",
    "plt.legend(['train', 'test'], loc='upper left')\n",
    "plt.show()"
   ]
  },
  {
   "cell_type": "markdown",
   "metadata": {},
   "source": [
    "# Model Scoring/Demoing"
   ]
  },
  {
   "cell_type": "code",
   "execution_count": 52,
   "metadata": {},
   "outputs": [],
   "source": [
    "import os\n",
    "\n",
    "scoring_file_list_v1 = [] #Get filenames and paths and store in list for v1 wavs\n",
    "scoring_file_list_v2 = [] #Get filenames and paths and store in list for v2 wavs\n",
    "\n",
    "for filename in os.listdir(\"./test_data/\"):\n",
    "    if filename.endswith(\"1.wav\"):\n",
    "        scoring_file_list_v1.append(filename)\n",
    "    elif filename.endswith(\"2.wav\"):\n",
    "        scoring_file_list_v2.append(filename)\n",
    "    else:\n",
    "        continue"
   ]
  },
  {
   "cell_type": "code",
   "execution_count": 65,
   "metadata": {},
   "outputs": [],
   "source": [
    "# This function will take a given phoneme, cross calculate \n",
    "# model-predicted similarity with all the other phonemes,\n",
    "# and return the most similar one\n",
    "def get_phoneme_letter_prediction(phoneme_file):\n",
    "    # Dictionary with similarity scores between all v2 phonemes & provided phoneme\n",
    "    similarity_score_dictionary = {}\n",
    "    \n",
    "    file = phoneme_file # Provided phoneme\n",
    "    parent_folder = './test_data/'\n",
    "    filepath = parent_folder + file\n",
    "    \n",
    "    scoring_waveform_anchor = load_wav_16k_mono(filepath) #Get waveform for training data anchor\n",
    "    scoring_waveform_anchor = wav_file_shortener(scoring_waveform_anchor, 0) #Shorten waveform to get most important parts\n",
    "    scoring_waveform_anchor_embedding = embedding_extraction(samples=scoring_waveform_anchor, sample_rate=16000)['embedding'] #Get embedding for provided phoneme\n",
    "    \n",
    "    # Iterate over all phonemes in v2 list\n",
    "    for file2 in scoring_file_list_v2:\n",
    "        filepath2 = parent_folder + file2\n",
    "        \n",
    "        scoring_waveform_anchor2 = load_wav_16k_mono(filepath2) #Get waveform for training data anchor\n",
    "        scoring_waveform_anchor2 = wav_file_shortener(scoring_waveform_anchor2, 0) #Shorten waveform to get most important parts\n",
    "        scoring_waveform_anchor_embedding2 = embedding_extraction(samples=scoring_waveform_anchor2, sample_rate=16000)['embedding'] #Get embedding for v2 phoneme\n",
    "        \n",
    "        #Get same class likelihood value from model\n",
    "        similarity_score = model.predict([scoring_waveform_anchor_embedding, scoring_waveform_anchor_embedding2])[0][0]\n",
    "        \n",
    "        #remove unwanted text to get class name\n",
    "        anchor_phoneme_temp = filepath2.replace('./test_data/','')\n",
    "        anchor_phoneme = anchor_phoneme_temp.replace('.wav','')\n",
    "        \n",
    "        similarity_score_dictionary[anchor_phoneme] = similarity_score\n",
    "        \n",
    "    return max(similarity_score_dictionary, key=similarity_score_dictionary.get) #Return phoneme with highest same-class similarity from model\n",
    "        "
   ]
  },
  {
   "cell_type": "code",
   "execution_count": 69,
   "metadata": {},
   "outputs": [],
   "source": [
    "from IPython.display import Image\n",
    "\n",
    "# This function returns an image of the letter corresponding to the phoneme output \n",
    "# from the get_phoneme_letter_prediction function\n",
    "def get_letter_of_phoneme(phoneme_name):\n",
    "    temp_name = phoneme_name # temp variable for phoneme name\n",
    "    \n",
    "    path = './letter_images/'\n",
    "    result = temp_name[:len(temp_name)-8] # removes suffix we don't want \n",
    "    suffix = '.gif'\n",
    "    \n",
    "    full_path = path + result + suffix\n",
    "    \n",
    "    return Image(filename=full_path) "
   ]
  },
  {
   "cell_type": "code",
   "execution_count": 173,
   "metadata": {},
   "outputs": [],
   "source": [
    "# This function returns the audio of a given waveform file name\n",
    "def get_waveform_audio(phoneme_name):\n",
    "    parent_folder = './test_data/'\n",
    "    filepath = parent_folder + phoneme_name\n",
    "\n",
    "    waveform2 = load_wav_16k_mono(filepath)\n",
    "\n",
    "    return display.Audio(waveform2, rate=16000)"
   ]
  },
  {
   "cell_type": "code",
   "execution_count": null,
   "metadata": {},
   "outputs": [],
   "source": []
  },
  {
   "cell_type": "code",
   "execution_count": 211,
   "metadata": {},
   "outputs": [
    {
     "data": {
      "text/html": [
       "\n",
       "                <audio  controls=\"controls\" >\n",
       "                    <source src=\"data:audio/wav;base64,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\" type=\"audio/wav\" />\n",
       "                    Your browser does not support the audio element.\n",
       "                </audio>\n",
       "              "
      ],
      "text/plain": [
       "<IPython.lib.display.Audio object>"
      ]
     },
     "execution_count": 211,
     "metadata": {},
     "output_type": "execute_result"
    }
   ],
   "source": [
    "phoneme_name = '20_fa_fatha_1.wav'\n",
    "get_waveform_audio(phoneme_name)"
   ]
  },
  {
   "cell_type": "code",
   "execution_count": 212,
   "metadata": {},
   "outputs": [
    {
     "data": {
      "image/gif": "[encoded data removed]",
      "text/plain": [
       "<IPython.core.display.Image object>"
      ]
     },
     "execution_count": 212,
     "metadata": {},
     "output_type": "execute_result"
    }
   ],
   "source": [
    "get_letter_of_phoneme( get_phoneme_letter_prediction(phoneme_name) )"
   ]
  },
  {
   "cell_type": "code",
   "execution_count": 213,
   "metadata": {},
   "outputs": [
    {
     "data": {
      "text/html": [
       "\n",
       "                <audio  controls=\"controls\" >\n",
       "                    <source src=\"data:audio/wav;base64,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\" type=\"audio/wav\" />\n",
       "                    Your browser does not support the audio element.\n",
       "                </audio>\n",
       "              "
      ],
      "text/plain": [
       "<IPython.lib.display.Audio object>"
      ]
     },
     "execution_count": 213,
     "metadata": {},
     "output_type": "execute_result"
    }
   ],
   "source": [
    "phoneme_name = '23_lam_fatha_1.wav'\n",
    "get_waveform_audio(phoneme_name)"
   ]
  },
  {
   "cell_type": "code",
   "execution_count": 214,
   "metadata": {},
   "outputs": [
    {
     "data": {
      "image/gif": "[encoded data removed]",
      "text/plain": [
       "<IPython.core.display.Image object>"
      ]
     },
     "execution_count": 214,
     "metadata": {},
     "output_type": "execute_result"
    }
   ],
   "source": [
    "get_letter_of_phoneme( get_phoneme_letter_prediction(phoneme_name) )"
   ]
  },
  {
   "cell_type": "code",
   "execution_count": 215,
   "metadata": {},
   "outputs": [
    {
     "data": {
      "text/html": [
       "\n",
       "                <audio  controls=\"controls\" >\n",
       "                    <source src=\"data:audio/wav;base64,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\" type=\"audio/wav\" />\n",
       "                    Your browser does not support the audio element.\n",
       "                </audio>\n",
       "              "
      ],
      "text/plain": [
       "<IPython.lib.display.Audio object>"
      ]
     },
     "execution_count": 215,
     "metadata": {},
     "output_type": "execute_result"
    }
   ],
   "source": [
    "phoneme_name = '12_seen_fatha_1.wav'\n",
    "get_waveform_audio(phoneme_name)"
   ]
  },
  {
   "cell_type": "code",
   "execution_count": 216,
   "metadata": {},
   "outputs": [
    {
     "data": {
      "image/gif": "[encoded data removed]",
      "text/plain": [
       "<IPython.core.display.Image object>"
      ]
     },
     "execution_count": 216,
     "metadata": {},
     "output_type": "execute_result"
    }
   ],
   "source": [
    "get_letter_of_phoneme( get_phoneme_letter_prediction(phoneme_name) )"
   ]
  },
  {
   "cell_type": "code",
   "execution_count": 217,
   "metadata": {},
   "outputs": [
    {
     "data": {
      "text/html": [
       "\n",
       "                <audio  controls=\"controls\" >\n",
       "                    <source src=\"data:audio/wav;base64,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\" type=\"audio/wav\" />\n",
       "                    Your browser does not support the audio element.\n",
       "                </audio>\n",
       "              "
      ],
      "text/plain": [
       "<IPython.lib.display.Audio object>"
      ]
     },
     "execution_count": 217,
     "metadata": {},
     "output_type": "execute_result"
    }
   ],
   "source": [
    "phoneme_name = '16_6a_fatha_2.wav'\n",
    "get_waveform_audio(phoneme_name)"
   ]
  },
  {
   "cell_type": "code",
   "execution_count": 218,
   "metadata": {},
   "outputs": [
    {
     "data": {
      "image/gif": "[encoded data removed]",
      "text/plain": [
       "<IPython.core.display.Image object>"
      ]
     },
     "execution_count": 218,
     "metadata": {},
     "output_type": "execute_result"
    }
   ],
   "source": [
    "get_letter_of_phoneme( get_phoneme_letter_prediction(phoneme_name) )"
   ]
  },
  {
   "cell_type": "code",
   "execution_count": 219,
   "metadata": {},
   "outputs": [
    {
     "data": {
      "text/html": [
       "\n",
       "                <audio  controls=\"controls\" >\n",
       "                    <source src=\"data:audio/wav;base64,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\" type=\"audio/wav\" />\n",
       "                    Your browser does not support the audio element.\n",
       "                </audio>\n",
       "              "
      ],
      "text/plain": [
       "<IPython.lib.display.Audio object>"
      ]
     },
     "execution_count": 219,
     "metadata": {},
     "output_type": "execute_result"
    }
   ],
   "source": [
    "phoneme_name = '28_ya_fatha_1.wav'\n",
    "get_waveform_audio(phoneme_name)"
   ]
  },
  {
   "cell_type": "code",
   "execution_count": 220,
   "metadata": {},
   "outputs": [
    {
     "data": {
      "image/gif": "[encoded data removed]",
      "text/plain": [
       "<IPython.core.display.Image object>"
      ]
     },
     "execution_count": 220,
     "metadata": {},
     "output_type": "execute_result"
    }
   ],
   "source": [
    "get_letter_of_phoneme( get_phoneme_letter_prediction(phoneme_name) )"
   ]
  },
  {
   "cell_type": "code",
   "execution_count": 221,
   "metadata": {},
   "outputs": [
    {
     "data": {
      "text/html": [
       "\n",
       "                <audio  controls=\"controls\" >\n",
       "                    <source src=\"data:audio/wav;base64,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\" type=\"audio/wav\" />\n",
       "                    Your browser does not support the audio element.\n",
       "                </audio>\n",
       "              "
      ],
      "text/plain": [
       "<IPython.lib.display.Audio object>"
      ]
     },
     "execution_count": 221,
     "metadata": {},
     "output_type": "execute_result"
    }
   ],
   "source": [
    "phoneme_name = '25_noon_fatha_1.wav'\n",
    "get_waveform_audio(phoneme_name)"
   ]
  },
  {
   "cell_type": "code",
   "execution_count": 222,
   "metadata": {},
   "outputs": [
    {
     "data": {
      "image/gif": "[encoded data removed]",
      "text/plain": [
       "<IPython.core.display.Image object>"
      ]
     },
     "execution_count": 222,
     "metadata": {},
     "output_type": "execute_result"
    }
   ],
   "source": [
    "get_letter_of_phoneme( get_phoneme_letter_prediction(phoneme_name) )"
   ]
  },
  {
   "cell_type": "code",
   "execution_count": null,
   "metadata": {},
   "outputs": [],
   "source": []
  }
 ],
 "metadata": {
  "kernelspec": {
   "display_name": "Python 3",
   "language": "python",
   "name": "python3"
  },
  "language_info": {
   "codemirror_mode": {
    "name": "ipython",
    "version": 3
   },
   "file_extension": ".py",
   "mimetype": "text/x-python",
   "name": "python",
   "nbconvert_exporter": "python",
   "pygments_lexer": "ipython3",
   "version": "3.8.5"
  }
 },
 "nbformat": 4,
 "nbformat_minor": 4
}
